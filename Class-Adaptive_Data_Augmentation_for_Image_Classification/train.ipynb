{
 "cells": [
  {
   "cell_type": "markdown",
   "id": "0d4b27c7",
   "metadata": {},
   "source": [
    "# Class-Adaptive Data Augmentation for Image Classification\n"
   ]
  }
 ],
 "metadata": {
  "language_info": {
   "name": "python"
  }
 },
 "nbformat": 4,
 "nbformat_minor": 5
}
